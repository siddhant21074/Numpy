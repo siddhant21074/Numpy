{
 "cells": [
  {
   "cell_type": "code",
   "execution_count": 8,
   "id": "ed3316fe",
   "metadata": {},
   "outputs": [
    {
     "name": "stdout",
     "output_type": "stream",
     "text": [
      "1*3 matrix\n",
      "(3,)\n",
      "\n",
      "[1 2 3]\n",
      "\n",
      "3*1 matrix\n",
      "(3, 1)\n",
      "\n",
      "[[1]\n",
      " [2]\n",
      " [3]]\n",
      "\n",
      "Addition is\n",
      "[[2 3 4]\n",
      " [3 4 5]\n",
      " [4 5 6]]\n",
      "\n"
     ]
    }
   ],
   "source": [
    "# import numpy as  np\n",
    "\n",
    "var1 = np.array([1,2,3])\n",
    "print(\"1*3 matrix\")\n",
    "print(var1.shape)\n",
    "print()\n",
    "print(var1)\n",
    "print()\n",
    "\n",
    "var2 = np.array([[1],[2],[3]])\n",
    "print(\"3*1 matrix\")\n",
    "print(var2.shape)\n",
    "print()\n",
    "print(var2)\n",
    "print()\n",
    "print(\"Addition is\")\n",
    "var3 = var1 + var2\n",
    "print(var3)\n",
    "print()\n",
    "\n",
    "\n",
    "#Condition for broadcasting \n",
    "\n",
    "# 1. Atleast one should be same according to dimentions\n",
    "#2. should have same number of elements"
   ]
  },
  {
   "cell_type": "code",
   "execution_count": null,
   "id": "09423bdd",
   "metadata": {},
   "outputs": [],
   "source": []
  }
 ],
 "metadata": {
  "kernelspec": {
   "display_name": "Python 3 (ipykernel)",
   "language": "python",
   "name": "python3"
  },
  "language_info": {
   "codemirror_mode": {
    "name": "ipython",
    "version": 3
   },
   "file_extension": ".py",
   "mimetype": "text/x-python",
   "name": "python",
   "nbconvert_exporter": "python",
   "pygments_lexer": "ipython3",
   "version": "3.11.4"
  }
 },
 "nbformat": 4,
 "nbformat_minor": 5
}
