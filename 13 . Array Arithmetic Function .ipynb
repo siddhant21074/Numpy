{
 "cells": [
  {
   "cell_type": "markdown",
   "id": "5e0a6f25",
   "metadata": {},
   "source": [
    "# Shuffle Function"
   ]
  },
  {
   "cell_type": "code",
   "execution_count": 7,
   "id": "d06389ca",
   "metadata": {},
   "outputs": [
    {
     "name": "stdout",
     "output_type": "stream",
     "text": [
      "[2 3 4 1 5]\n"
     ]
    }
   ],
   "source": [
    "import numpy as np\n",
    "\n",
    "var = np.array([1,2,3,4,5])\n",
    "v = np.random.shuffle(var)      # Here it suffles the data in a random order\n",
    "print(var)"
   ]
  },
  {
   "cell_type": "markdown",
   "id": "bfef9327",
   "metadata": {},
   "source": [
    "# Unique Function"
   ]
  },
  {
   "cell_type": "code",
   "execution_count": 22,
   "id": "d23d80c5",
   "metadata": {},
   "outputs": [
    {
     "name": "stdout",
     "output_type": "stream",
     "text": [
      "[1 2 3 4]\n"
     ]
    }
   ],
   "source": [
    "var1 = np.array([1,2,3,4,3,2])   # Here it returns the single copy of the repeated element\n",
    "print(np.unique(var1))\n"
   ]
  },
  {
   "cell_type": "markdown",
   "id": "0ce6d4b6",
   "metadata": {},
   "source": [
    "# Resize Function"
   ]
  },
  {
   "cell_type": "code",
   "execution_count": 18,
   "id": "4e821f2e",
   "metadata": {},
   "outputs": [
    {
     "name": "stdout",
     "output_type": "stream",
     "text": [
      "[[1 2 3]\n",
      " [4 5 6]]\n"
     ]
    }
   ],
   "source": [
    "var2 = np.array([1,2,3,4,5,6])\n",
    "print(np.resize(var2,(2,3)))      # Using this function we can convert one dimentional array into multidimentional array \n",
    "                                  # In which we can specify the number of rows and column"
   ]
  },
  {
   "cell_type": "markdown",
   "id": "4af57c1a",
   "metadata": {},
   "source": [
    "# Flatten and Ravel"
   ]
  },
  {
   "cell_type": "code",
   "execution_count": 31,
   "id": "6f8a5e3d",
   "metadata": {},
   "outputs": [
    {
     "name": "stdout",
     "output_type": "stream",
     "text": [
      "Two Dimentional : \n",
      " [[1 2 3]\n",
      " [4 5 6]]\n",
      "\n",
      "One Dimentional : \n",
      " [1 2 3 4 5 6]\n",
      "\n",
      "One Dimentional : \n",
      " [1 2 3 4 5 6]\n"
     ]
    }
   ],
   "source": [
    "# Used to convert two dimentional array into one dimentional array\n",
    "\n",
    "var3 = np.array([1,2,3,4,5,6])\n",
    "v = np.resize(var2,(2,3))\n",
    "print(\"Two Dimentional : \\n\", v)\n",
    "print()\n",
    "print(\"One Dimentional : \\n\", v.flatten())     # Flatten\n",
    "print()                                         # Here we converted two dimentional array into one dimentional array\n",
    "print(\"One Dimentional : \\n\", v.ravel())       # Ravel"
   ]
  }
 ],
 "metadata": {
  "kernelspec": {
   "display_name": "Python 3 (ipykernel)",
   "language": "python",
   "name": "python3"
  },
  "language_info": {
   "codemirror_mode": {
    "name": "ipython",
    "version": 3
   },
   "file_extension": ".py",
   "mimetype": "text/x-python",
   "name": "python",
   "nbconvert_exporter": "python",
   "pygments_lexer": "ipython3",
   "version": "3.11.4"
  }
 },
 "nbformat": 4,
 "nbformat_minor": 5
}
