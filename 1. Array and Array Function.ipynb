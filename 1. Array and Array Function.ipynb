{
 "cells": [
  {
   "cell_type": "markdown",
   "id": "c4d9f915",
   "metadata": {},
   "source": [
    "# This Is Array Creation\n"
   ]
  },
  {
   "cell_type": "code",
   "execution_count": 17,
   "id": "058146d7",
   "metadata": {},
   "outputs": [
    {
     "name": "stdout",
     "output_type": "stream",
     "text": [
      "4\n"
     ]
    }
   ],
   "source": [
    "import numpy as np\n",
    "import array\n",
    "\n",
    "# num = np.array([10,2,2,3,4,5])\n",
    "# print(num)\n",
    "num1 = np.array(4)\n",
    "print(num1)\n"
   ]
  },
  {
   "cell_type": "code",
   "execution_count": 5,
   "id": "ce08d44d",
   "metadata": {},
   "outputs": [
    {
     "name": "stdout",
     "output_type": "stream",
     "text": [
      "[[3 7 9 3]\n",
      " [4 3 2 2]]\n"
     ]
    }
   ],
   "source": [
    "import numpy as np\n",
    "n1 = np.array([[3,7,9,3],[4,3,2,2]])\n",
    "print(n1)"
   ]
  },
  {
   "cell_type": "markdown",
   "id": "4b881a76",
   "metadata": {},
   "source": [
    "n = ([])\n",
    "for i in range(0,10):\n",
    "    i1 = int(input(\"Enter number:\"))\n",
    "    n.append(i1)\n",
    "print(n)"
   ]
  }
 ],
 "metadata": {
  "kernelspec": {
   "display_name": "Python 3 (ipykernel)",
   "language": "python",
   "name": "python3"
  },
  "language_info": {
   "codemirror_mode": {
    "name": "ipython",
    "version": 3
   },
   "file_extension": ".py",
   "mimetype": "text/x-python",
   "name": "python",
   "nbconvert_exporter": "python",
   "pygments_lexer": "ipython3",
   "version": "3.11.4"
  }
 },
 "nbformat": 4,
 "nbformat_minor": 5
}
