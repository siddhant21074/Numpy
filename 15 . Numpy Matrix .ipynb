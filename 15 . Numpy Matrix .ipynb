{
 "cells": [
  {
   "cell_type": "markdown",
   "id": "c340ed92",
   "metadata": {},
   "source": [
    "# Matrix"
   ]
  },
  {
   "cell_type": "code",
   "execution_count": 6,
   "id": "34b27aa8",
   "metadata": {},
   "outputs": [
    {
     "name": "stdout",
     "output_type": "stream",
     "text": [
      "[[ 7 10]\n",
      " [15 22]]\n",
      "\n",
      "[[2 4]\n",
      " [6 8]]\n",
      "\n",
      "[[1. 1.]\n",
      " [1. 1.]]\n"
     ]
    }
   ],
   "source": [
    "import numpy as np\n",
    "\n",
    "# Multiplication of Martix \n",
    "\n",
    "var1 = np.matrix([[1,2],[3,4]])\n",
    "var2 = np.matrix([[1,2],[3,4]])\n",
    "print(var1.dot(var2))\n",
    "print()\n",
    "print(var1 + var2)\n",
    "print()\n",
    "print(var1 / var2)"
   ]
  },
  {
   "cell_type": "markdown",
   "id": "5378bd9e",
   "metadata": {},
   "source": [
    "# Functions in Marix"
   ]
  },
  {
   "cell_type": "markdown",
   "id": "c19b0ae4",
   "metadata": {},
   "source": [
    "# 1.Transpose"
   ]
  },
  {
   "cell_type": "code",
   "execution_count": 7,
   "id": "52e808ef",
   "metadata": {},
   "outputs": [
    {
     "name": "stdout",
     "output_type": "stream",
     "text": [
      "[[1 3]\n",
      " [2 4]]\n"
     ]
    }
   ],
   "source": [
    "var3 = np.matrix([[1,2],[3,4]])\n",
    "print(np.transpose(var3))"
   ]
  },
  {
   "cell_type": "markdown",
   "id": "b888f7e6",
   "metadata": {},
   "source": [
    "# 2.Swapaxes"
   ]
  },
  {
   "cell_type": "code",
   "execution_count": 8,
   "id": "66f38cb4",
   "metadata": {},
   "outputs": [
    {
     "name": "stdout",
     "output_type": "stream",
     "text": [
      "[[1 3]\n",
      " [2 4]]\n"
     ]
    }
   ],
   "source": [
    "var4 = np.matrix([[1,2],[3,4]])\n",
    "print(np.swapaxes(var4,0,1))    # 0 and 1 are axis that are swaped\n"
   ]
  },
  {
   "cell_type": "markdown",
   "id": "861bd43c",
   "metadata": {},
   "source": [
    "# 3.Inverse"
   ]
  },
  {
   "cell_type": "code",
   "execution_count": 15,
   "id": "a8f2be14",
   "metadata": {},
   "outputs": [
    {
     "name": "stdout",
     "output_type": "stream",
     "text": [
      "[[-2.   1. ]\n",
      " [ 1.5 -0.5]]\n"
     ]
    }
   ],
   "source": [
    " var5 = np.matrix([[1,2],[3,4]])\n",
    "print(np.linalg.inv(var5))"
   ]
  },
  {
   "cell_type": "markdown",
   "id": "c30c9e7f",
   "metadata": {},
   "source": [
    "# 4.Power"
   ]
  },
  {
   "cell_type": "code",
   "execution_count": 14,
   "id": "ae7f1b9a",
   "metadata": {},
   "outputs": [
    {
     "name": "stdout",
     "output_type": "stream",
     "text": [
      "[[1 0]\n",
      " [0 1]]\n",
      "\n",
      "[[ 7 10]\n",
      " [15 22]]\n",
      "\n",
      "[[ 5.5  -2.5 ]\n",
      " [-3.75  1.75]]\n",
      "\n"
     ]
    }
   ],
   "source": [
    "var6 = np.matrix([[1,2],[3,4]])\n",
    "print(np.linalg.matrix_power(var6,0))\n",
    "print()\n",
    "print(np.linalg.matrix_power(var6,2))\n",
    "print()\n",
    "print(np.linalg.matrix_power(var6,-2))\n",
    "print()"
   ]
  },
  {
   "cell_type": "markdown",
   "id": "15c60c23",
   "metadata": {},
   "source": [
    "# 5.Diterminant"
   ]
  },
  {
   "cell_type": "code",
   "execution_count": 23,
   "id": "bb8c72e0",
   "metadata": {},
   "outputs": [
    {
     "name": "stdout",
     "output_type": "stream",
     "text": [
      "10.000000000000002\n"
     ]
    }
   ],
   "source": [
    "var7 = np.matrix([[1,2,3],[3,4,5],[1,7,8]])\n",
    "print(np.linalg.det(var7))"
   ]
  }
 ],
 "metadata": {
  "kernelspec": {
   "display_name": "Python 3 (ipykernel)",
   "language": "python",
   "name": "python3"
  },
  "language_info": {
   "codemirror_mode": {
    "name": "ipython",
    "version": 3
   },
   "file_extension": ".py",
   "mimetype": "text/x-python",
   "name": "python",
   "nbconvert_exporter": "python",
   "pygments_lexer": "ipython3",
   "version": "3.11.4"
  }
 },
 "nbformat": 4,
 "nbformat_minor": 5
}
