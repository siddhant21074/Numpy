{
 "cells": [
  {
   "cell_type": "markdown",
   "id": "7770e289",
   "metadata": {},
   "source": [
    "# COPY and  VIEW function\n"
   ]
  },
  {
   "cell_type": "code",
   "execution_count": 44,
   "id": "c0f64952",
   "metadata": {},
   "outputs": [
    {
     "name": "stdout",
     "output_type": "stream",
     "text": [
      "Original array : [1 2 3 4 5]\n",
      "\n",
      "Copied array  :  [1 2 3 4 5]\n",
      "\n",
      "Copied array after changes :  [1 2 3 4 5]\n",
      "\n",
      "Viewed array  :  [1 2 3 4 6]\n",
      "\n",
      "View array after changes :  [  1   2 100   4   6]\n"
     ]
    }
   ],
   "source": [
    "import numpy as np\n",
    "\n",
    "var = np.array([1,2,3,4,5])\n",
    "print(\"Original array :\", var)\n",
    "print()\n",
    "\n",
    "# 1. HERE DATA OF ONE ARRAY IS COPIED INTO ANOTHER ARRAY\n",
    "\n",
    "var1 = var.copy()\n",
    "print(\"Copied array  : \" , var1)\n",
    "print()\n",
    "\n",
    "\n",
    "# Changing the data shows us following\n",
    "\n",
    "var[4] = 6\n",
    "print(\"Copied array after changes : \", var1) \n",
    "print()\n",
    "\n",
    "# Here we change the actual array values and then print the  copied array we observe that the values are same in the\n",
    "# copyied array and didnt change\n",
    "\n",
    "# 2. HERE DATA IS VIEWED\n",
    "    \n",
    "var2 = var.view()\n",
    "print(\"Viewed array  : \" , var2)\n",
    "print()\n",
    "\n",
    "var[2] = 100\n",
    "print(\"View array after changes : \" , var2)\n"
   ]
  }
 ],
 "metadata": {
  "kernelspec": {
   "display_name": "Python 3 (ipykernel)",
   "language": "python",
   "name": "python3"
  },
  "language_info": {
   "codemirror_mode": {
    "name": "ipython",
    "version": 3
   },
   "file_extension": ".py",
   "mimetype": "text/x-python",
   "name": "python",
   "nbconvert_exporter": "python",
   "pygments_lexer": "ipython3",
   "version": "3.11.4"
  }
 },
 "nbformat": 4,
 "nbformat_minor": 5
}
