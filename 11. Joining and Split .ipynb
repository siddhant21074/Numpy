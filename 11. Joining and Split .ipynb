{
 "cells": [
  {
   "cell_type": "markdown",
   "id": "b8faf565",
   "metadata": {},
   "source": [
    "# JOINING AND SPLIT\n"
   ]
  },
  {
   "cell_type": "markdown",
   "id": "86f7216c",
   "metadata": {},
   "source": [
    "# CONCATENATE Function"
   ]
  },
  {
   "cell_type": "code",
   "execution_count": 26,
   "id": "7d211ca8",
   "metadata": {},
   "outputs": [
    {
     "name": "stdout",
     "output_type": "stream",
     "text": [
      "[1 2 3 4 5 6]\n"
     ]
    }
   ],
   "source": [
    "# JOIN ARRAY - putting contents of two or more array in single array\n",
    "\n",
    "import numpy as np\n",
    "\n",
    "var = np.array([1,2,3])\n",
    "\n",
    "var1 = np.array([4,5,6])\n",
    "\n",
    "var2 = np.concatenate((var,var1))  # Here we concatenate two arrays \n",
    "\n",
    "print(var2)"
   ]
  },
  {
   "cell_type": "code",
   "execution_count": 44,
   "id": "ddfe2ca8",
   "metadata": {},
   "outputs": [
    {
     "name": "stdout",
     "output_type": "stream",
     "text": [
      "On axis 0 :  [[1 2]\n",
      " [3 4]\n",
      " [5 6]\n",
      " [7 8]]\n",
      "\n",
      "On axis 1 :  [[1 2 5 6]\n",
      " [3 4 7 8]]\n",
      "\n"
     ]
    }
   ],
   "source": [
    "var1 = np.array([[1,2],[3,4]])\n",
    "\n",
    "var2 = np.array([[5,6],[7,8]])\n",
    "\n",
    "var3 = np.concatenate((var1,var2),axis = 0)  # Here we concatenate two arrays on 0 axis column wise \n",
    "var4 = np.concatenate((var1,var2),axis = 1)  # Here we concatenate two arrays on 1 axis row  wise \n",
    "\n",
    "print(\"On axis 0 : \", var3)\n",
    "print()\n",
    "print(\"On axis 1 : \", var4)\n",
    "print()"
   ]
  },
  {
   "cell_type": "markdown",
   "id": "dabd52db",
   "metadata": {},
   "source": [
    "# STACK Function"
   ]
  },
  {
   "cell_type": "code",
   "execution_count": 54,
   "id": "f0449566",
   "metadata": {},
   "outputs": [
    {
     "name": "stdout",
     "output_type": "stream",
     "text": [
      " v - Vertical Stack (COLUMN WISE ): \n",
      " [[1 2 3]\n",
      " [4 5 6]]\n",
      "\n",
      " h - Horizontal Stack (ROW WISE ): \n",
      " [1 2 3 4 5 6]\n",
      "\n",
      " d - Height Stack (HEIGHT WISE ): \n",
      " [[[1 4]\n",
      "  [2 5]\n",
      "  [3 6]]]\n",
      "\n"
     ]
    }
   ],
   "source": [
    "# It is also used for concatenate two arrays\n",
    "\n",
    "\n",
    "num = np.array([1,2,3])\n",
    "\n",
    "num1 = np.array([4,5,6])\n",
    "\n",
    "num2 = np.vstack((num,num1))\n",
    "num3 = np.hstack((num,num1))\n",
    "num4 = np.dstack((num,num1))\n",
    "print(\" v - Vertical Stack (COLUMN WISE ): \\n\" , num2)\n",
    "print()\n",
    "print(\" h - Horizontal Stack (ROW WISE ): \\n\" , num3)\n",
    "print()\n",
    "print(\" d - Height Stack (HEIGHT WISE ): \\n\" , num4)\n",
    "print()\n",
    "\n",
    "\n",
    "\n"
   ]
  },
  {
   "cell_type": "markdown",
   "id": "5843dbc0",
   "metadata": {},
   "source": [
    "# SPLIT Function"
   ]
  },
  {
   "cell_type": "code",
   "execution_count": 56,
   "id": "18d744f1",
   "metadata": {},
   "outputs": [
    {
     "name": "stdout",
     "output_type": "stream",
     "text": [
      "[1 2 3 4]\n",
      "\n",
      "[array([1, 2]), array([3, 4])]\n",
      "\n",
      "[array([1, 2]), array([3]), array([4])]\n"
     ]
    }
   ],
   "source": [
    "n = np.array([1,2,3,4])\n",
    "print(n)\n",
    "print()\n",
    "n1 = np.array_split(n,2) # Here we splited array it 2 equal parts\n",
    "n2 = np.array_split(n,3) # In 3 parts \n",
    "print(n1)\n",
    "print()\n",
    "print(n2)\n",
    "\n"
   ]
  },
  {
   "cell_type": "code",
   "execution_count": 65,
   "id": "2ad8807d",
   "metadata": {},
   "outputs": [
    {
     "name": "stdout",
     "output_type": "stream",
     "text": [
      "[array([[1, 2]]), array([[3, 4]])]\n",
      "\n",
      "[array([[1],\n",
      "       [3]]), array([[2],\n",
      "       [4]]), array([], shape=(2, 0), dtype=int32)]\n"
     ]
    }
   ],
   "source": [
    "# Two dimentional Spliting\n",
    "\n",
    "n3 = np.array([[1,2],[3,4]])\n",
    "print(np.array_split(n3,2))\n",
    "print()\n",
    "print(np.array_split(n3,3,axis = 1))  # According to axis"
   ]
  }
 ],
 "metadata": {
  "kernelspec": {
   "display_name": "Python 3 (ipykernel)",
   "language": "python",
   "name": "python3"
  },
  "language_info": {
   "codemirror_mode": {
    "name": "ipython",
    "version": 3
   },
   "file_extension": ".py",
   "mimetype": "text/x-python",
   "name": "python",
   "nbconvert_exporter": "python",
   "pygments_lexer": "ipython3",
   "version": "3.11.4"
  }
 },
 "nbformat": 4,
 "nbformat_minor": 5
}
