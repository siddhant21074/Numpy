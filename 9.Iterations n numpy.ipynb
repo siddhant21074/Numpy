{
 "cells": [
  {
   "cell_type": "code",
   "execution_count": 1,
   "id": "d447feee",
   "metadata": {},
   "outputs": [
    {
     "name": "stdout",
     "output_type": "stream",
     "text": [
      "[1 2 3 4]\n",
      "\n",
      "1\n",
      "2\n",
      "3\n",
      "4\n"
     ]
    }
   ],
   "source": [
    "import numpy as np\n",
    "\n",
    "var = np.array([1,2,3,4])\n",
    "print(var)   # Simple display \n",
    "print()\n",
    "\n",
    "for i in var:  # Iteration Display \n",
    "     print(i)"
   ]
  },
  {
   "cell_type": "code",
   "execution_count": 14,
   "id": "4861292b",
   "metadata": {},
   "outputs": [
    {
     "name": "stdout",
     "output_type": "stream",
     "text": [
      "Two dimentional\n",
      "[1 2 3]\n",
      "[1 2 3]\n",
      "[1 2 3]\n",
      "[4 5 6]\n",
      "[4 5 6]\n",
      "[4 5 6]\n",
      "\n",
      "Three Dimentional\n",
      "[1 2 3]\n",
      "[4 5 6]\n",
      "[7 8 9]\n",
      "[1 2 3]\n",
      "[4 5 6]\n",
      "[7 8 9]\n",
      "[1 2 3]\n",
      "[4 5 6]\n",
      "[7 8 9]\n"
     ]
    }
   ],
   "source": [
    "# Two dimentional array Display\n",
    "print(\"Two dimentional\")\n",
    "var1 = np.array([[1,2,3],[4,5,6]])\n",
    "\n",
    "for i in var1:\n",
    "    for j in i:\n",
    "        print(i)\n",
    "print()\n",
    "# Three Dimentional\n",
    "print(\"Three Dimentional\")\n",
    "\n",
    "var2 = np.array([[[1,2,3],[4,5,6],[7,8,9]]])\n",
    "\n",
    "    for i in var2:\n",
    "        for j in i :\n",
    "            for k in i:\n",
    "                print(k)"
   ]
  },
  {
   "cell_type": "markdown",
   "id": "b8f85c67",
   "metadata": {},
   "source": [
    "# nditer Function"
   ]
  },
  {
   "cell_type": "code",
   "execution_count": 27,
   "id": "c7e075fb",
   "metadata": {},
   "outputs": [
    {
     "name": "stdout",
     "output_type": "stream",
     "text": [
      "Elements are :  1\n",
      "Elements are :  2\n",
      "Elements are :  3\n",
      "Elements are :  4\n",
      "Elements are :  5\n",
      "Elements are :  6\n",
      "Elements are :  7\n",
      "Elements are :  8\n",
      "Elements are :  9\n",
      "Elements are :  10\n",
      "\n",
      "\n",
      "Elements are :  b'1'\n",
      "Elements are :  b'2'\n",
      "Elements are :  b'3'\n",
      "Elements are :  b'4'\n",
      "Elements are :  b'5'\n",
      "Elements are :  b'6'\n",
      "Elements are :  b'7'\n",
      "Elements are :  b'8'\n",
      "Elements are :  b'9'\n",
      "Elements are :  b'10'\n"
     ]
    }
   ],
   "source": [
    "# Instead using multiple for loop we can use 'nditer' function\n",
    "\n",
    "num3 = np.array([[1,2,3,4,5],[6,7,8,9,10]])\n",
    "for i in np.nditer(num3):\n",
    "    print(\"Elements are : \", i)\n",
    "print()\n",
    "print()\n",
    "\n",
    "num4 = np.array([[1,2,3,4,5],[6,7,8,9,10]])\n",
    "for i in np.nditer(num4,flags = ['buffered'],op_dtypes = [\"S\"]):    # Here it converts the data in var into string data type\n",
    "                                                                    # Buffer - data converted is stored in here \n",
    "                                                                    # op_dtype - to which data type to be changed\n",
    "    print(\"Elements are : \", i)\n",
    "    \n",
    "\n"
   ]
  },
  {
   "cell_type": "markdown",
   "id": "1465ba6d",
   "metadata": {},
   "source": [
    "# ndenumerate Function"
   ]
  },
  {
   "cell_type": "code",
   "execution_count": 35,
   "id": "05742a9f",
   "metadata": {},
   "outputs": [
    {
     "name": "stdout",
     "output_type": "stream",
     "text": [
      "((0,), 1)\n",
      "((1,), 2)\n",
      "((2,), 233)\n",
      "((3,), 3)\n"
     ]
    }
   ],
   "source": [
    "# It gives data plus indexing \n",
    "\n",
    "var2 = np.array([1,2,233,3])\n",
    "for i in np.ndenumerate(var2):\n",
    "    print(i)"
   ]
  }
 ],
 "metadata": {
  "kernelspec": {
   "display_name": "Python 3 (ipykernel)",
   "language": "python",
   "name": "python3"
  },
  "language_info": {
   "codemirror_mode": {
    "name": "ipython",
    "version": 3
   },
   "file_extension": ".py",
   "mimetype": "text/x-python",
   "name": "python",
   "nbconvert_exporter": "python",
   "pygments_lexer": "ipython3",
   "version": "3.11.4"
  }
 },
 "nbformat": 4,
 "nbformat_minor": 5
}
