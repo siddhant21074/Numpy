{
 "cells": [
  {
   "cell_type": "markdown",
   "id": "c2a23c60",
   "metadata": {},
   "source": [
    "# SEARCHING IN NUMPY"
   ]
  },
  {
   "cell_type": "markdown",
   "id": "c494379c",
   "metadata": {},
   "source": [
    "# 1. WHERE "
   ]
  },
  {
   "cell_type": "code",
   "execution_count": 8,
   "id": "443b926e",
   "metadata": {},
   "outputs": [
    {
     "name": "stdout",
     "output_type": "stream",
     "text": [
      "(array([1, 2, 4], dtype=int64),)\n"
     ]
    }
   ],
   "source": [
    "import numpy as np\n",
    "\n",
    "# where Function\n",
    "\n",
    "var = np.array([1,2,2,3,2,4,5])\n",
    "n = np.where(var == 2)   # We can place conditions according to our need ex- (var % 2)==0 etc \n",
    "print(n)"
   ]
  },
  {
   "cell_type": "markdown",
   "id": "4198bcb6",
   "metadata": {},
   "source": [
    "# 2. SEARCH SORTED"
   ]
  },
  {
   "cell_type": "code",
   "execution_count": 20,
   "id": "792f69cf",
   "metadata": {},
   "outputs": [
    {
     "name": "stdout",
     "output_type": "stream",
     "text": [
      "3\n",
      "\n",
      "By side :  [0 1 2]\n"
     ]
    }
   ],
   "source": [
    "# This Function tells us the position at which the element will be fit perfecty i.e in  a sorted order array it tells the \n",
    "# position at which the number should be placed so that the order should be in sorted form\n",
    "\n",
    "var1 = np.array([1,2,4,5])\n",
    "var2 = np.searchsorted(var1 ,5)\n",
    "var3 = np.searchsorted(var1 ,[1,2,3],side = \"right\" )\n",
    "print(var2)\n",
    "print()\n",
    "print(\"By side : \", var3)"
   ]
  },
  {
   "cell_type": "markdown",
   "id": "f7a0d54e",
   "metadata": {},
   "source": [
    "# 3. SORT Function"
   ]
  },
  {
   "cell_type": "code",
   "execution_count": 22,
   "id": "73ac2456",
   "metadata": {},
   "outputs": [
    {
     "name": "stdout",
     "output_type": "stream",
     "text": [
      "[0 1 2 3 4 5 6]\n"
     ]
    }
   ],
   "source": [
    "num = np.array([1,3,2,6,4,5,0])   # Also works for alphabets\n",
    "print(np.sort(num))"
   ]
  },
  {
   "cell_type": "markdown",
   "id": "f9d556de",
   "metadata": {},
   "source": [
    "# 4. FILTER Array"
   ]
  },
  {
   "cell_type": "code",
   "execution_count": 26,
   "id": "eb01cc88",
   "metadata": {},
   "outputs": [
    {
     "name": "stdout",
     "output_type": "stream",
     "text": [
      "[1 1]\n"
     ]
    }
   ],
   "source": [
    "n = np.array([0,1,0,1])\n",
    "f = [False, True,False ,True]\n",
    "n1 = n[f]  # Return values that are \"True\"\n",
    "print(n1)"
   ]
  }
 ],
 "metadata": {
  "kernelspec": {
   "display_name": "Python 3 (ipykernel)",
   "language": "python",
   "name": "python3"
  },
  "language_info": {
   "codemirror_mode": {
    "name": "ipython",
    "version": 3
   },
   "file_extension": ".py",
   "mimetype": "text/x-python",
   "name": "python",
   "nbconvert_exporter": "python",
   "pygments_lexer": "ipython3",
   "version": "3.11.4"
  }
 },
 "nbformat": 4,
 "nbformat_minor": 5
}
