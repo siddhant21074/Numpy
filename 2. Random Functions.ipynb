{
 "cells": [
  {
   "cell_type": "markdown",
   "id": "5692be41",
   "metadata": {},
   "source": [
    "#  Random Functions in python\n"
   ]
  },
  {
   "cell_type": "markdown",
   "id": "c908409b",
   "metadata": {},
   "source": [
    "# 1. rand function"
   ]
  },
  {
   "cell_type": "code",
   "execution_count": 4,
   "id": "69623658",
   "metadata": {},
   "outputs": [
    {
     "name": "stdout",
     "output_type": "stream",
     "text": [
      "[0.10157952 0.03576618 0.71055311 0.04957173 0.2469863 ]\n"
     ]
    }
   ],
   "source": [
    "#Here this function generates random numbers between 0 to 1\n",
    "\n",
    "import numpy as np\n",
    "\n",
    "a = np.random.rand(5) # Here it states the number of elements generated between 0 and 1\n",
    "print(a)\n"
   ]
  },
  {
   "cell_type": "markdown",
   "id": "29a41a46",
   "metadata": {},
   "source": [
    "# 2. randn Function"
   ]
  },
  {
   "cell_type": "code",
   "execution_count": 11,
   "id": "b56c0f35",
   "metadata": {},
   "outputs": [
    {
     "name": "stdout",
     "output_type": "stream",
     "text": [
      "[-1.05376454  0.32008866 -1.41180158  0.70118909]\n"
     ]
    }
   ],
   "source": [
    "# This Function generates random values close to zero \n",
    "#(may be positive or negative)\n",
    "\n",
    "num = np.random.randn(4)  # States how many number to be generated\n",
    "print(num)"
   ]
  },
  {
   "cell_type": "markdown",
   "id": "86b1252e",
   "metadata": {},
   "source": [
    "# 3. ranf Function"
   ]
  },
  {
   "cell_type": "code",
   "execution_count": 14,
   "id": "1603640e",
   "metadata": {},
   "outputs": [
    {
     "name": "stdout",
     "output_type": "stream",
     "text": [
      "[0.02028853 0.62312803 0.3959864  0.55826637]\n"
     ]
    }
   ],
   "source": [
    "# This function genarates random number including 0 but less than 1\n",
    "var = np.random.ranf(4)\n",
    "\n",
    "print(var)\n"
   ]
  },
  {
   "cell_type": "markdown",
   "id": "24141eeb",
   "metadata": {},
   "source": [
    "# 4. randint Function"
   ]
  },
  {
   "cell_type": "code",
   "execution_count": 19,
   "id": "f3309d10",
   "metadata": {},
   "outputs": [
    {
     "name": "stdout",
     "output_type": "stream",
     "text": [
      "[0 3 1 2]\n"
     ]
    }
   ],
   "source": [
    "# Genarates random number between specified range \n",
    "\n",
    "a = 0\n",
    "b = 5\n",
    "c = 4\n",
    "var1 = np.random.randint(a,b,c)\n",
    "#  Here it range of function \n",
    "# a to b is range and c is how many \n",
    "# numbers to be generated between that range\n",
    "print(var1)"
   ]
  }
 ],
 "metadata": {
  "kernelspec": {
   "display_name": "Python 3 (ipykernel)",
   "language": "python",
   "name": "python3"
  },
  "language_info": {
   "codemirror_mode": {
    "name": "ipython",
    "version": 3
   },
   "file_extension": ".py",
   "mimetype": "text/x-python",
   "name": "python",
   "nbconvert_exporter": "python",
   "pygments_lexer": "ipython3",
   "version": "3.11.4"
  }
 },
 "nbformat": 4,
 "nbformat_minor": 5
}
