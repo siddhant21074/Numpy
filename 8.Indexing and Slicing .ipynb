{
 "cells": [
  {
   "cell_type": "markdown",
   "id": "aba376c3",
   "metadata": {},
   "source": [
    "# INDEXING IN NUMPY"
   ]
  },
  {
   "cell_type": "code",
   "execution_count": 1,
   "id": "b2ddcd68",
   "metadata": {},
   "outputs": [
    {
     "name": "stdout",
     "output_type": "stream",
     "text": [
      "(2, 2)\n",
      "1\n",
      "2\n",
      "3\n",
      "4\n"
     ]
    }
   ],
   "source": [
    "import numpy as np\n",
    "\n",
    "var = np.array([[1,2],[3,4]])\n",
    "print(var.shape)\n",
    "print(var[0,0])  \n",
    "\n",
    "# Here first 0(zero) represent the indexing between arrays i.e here o represent [1,2] and one 1 is [3,4] and next 0 represnt the \n",
    "# indexing inside the array here 0 in [1,2] is 1 so ans  is  -- 1\n",
    "print(var[0,1])      \n",
    "                    \n",
    "print(var[1,0])\n",
    "print(var[1,1])\n",
    "\n"
   ]
  },
  {
   "cell_type": "code",
   "execution_count": 2,
   "id": "7514fa10",
   "metadata": {},
   "outputs": [
    {
     "name": "stdout",
     "output_type": "stream",
     "text": [
      "(1, 2, 2)\n",
      "1\n"
     ]
    }
   ],
   "source": [
    "import numpy as np\n",
    "\n",
    "var = np.array([[[1,2],[3,4]]])\n",
    "print(var.shape)\n",
    "print(var[0,0,0])  # Here  0 is between outer  array and another 0 is inside array and another 0 is element\n"
   ]
  },
  {
   "cell_type": "markdown",
   "id": "2d607daa",
   "metadata": {},
   "source": [
    "# SLICING IN NUMPY\n"
   ]
  },
  {
   "cell_type": "code",
   "execution_count": 46,
   "id": "6feb75d2",
   "metadata": {},
   "outputs": [
    {
     "name": "stdout",
     "output_type": "stream",
     "text": [
      "Elemets are : [1 2 3 4 5]\n",
      "Start to end : [1 2 3 4 5]\n",
      "0 to 3 : [1 2 3 4]\n",
      "1 to 5 : [2 3 4 5]\n",
      "0 to end with 2 increment: [1 3 5]\n",
      "1 to 3 with 2 increment: [2]\n",
      "\n",
      "\n",
      "2\n",
      "Element are : [[1 2 3]\n",
      " [4 5 6]]\n",
      "1st array element 0 to end :  [1 2 3]\n",
      "2nd array element 0 to end with jump 2  :  [4 6]\n"
     ]
    }
   ],
   "source": [
    "#With ONE DIMENTIONAL array\n",
    "\n",
    "import numpy as  np\n",
    "\n",
    "num = np.array([1,2,3,4,5])\n",
    "print(\"Elemets are :\",num)\n",
    "print(\"Start to end :\",num[0:])\n",
    "print(\"0 to 3 :\",num[0:4])\n",
    "print(\"1 to 5 :\",num[1:])\n",
    "print(\"0 to end with 2 increment:\",num[::2])\n",
    "print(\"1 to 3 with 3 increment:\",num[1:3:3])\n",
    "print()\n",
    "print()\n",
    "\n",
    "# With TWO DIMENTIONAL array\n",
    "\n",
    "num1 = np.array([[1,2,3],[4,5,6]])\n",
    "\n",
    "print(\"Element are :\",num1)\n",
    "print(\"1st array element 0 to end : \", num1[0,0:])\n",
    "print(\"2nd array element 0 to end with jump 2  : \", num1[1,0::2])\n",
    "\n",
    "\n"
   ]
  }
 ],
 "metadata": {
  "kernelspec": {
   "display_name": "Python 3 (ipykernel)",
   "language": "python",
   "name": "python3"
  },
  "language_info": {
   "codemirror_mode": {
    "name": "ipython",
    "version": 3
   },
   "file_extension": ".py",
   "mimetype": "text/x-python",
   "name": "python",
   "nbconvert_exporter": "python",
   "pygments_lexer": "ipython3",
   "version": "3.11.4"
  }
 },
 "nbformat": 4,
 "nbformat_minor": 5
}
