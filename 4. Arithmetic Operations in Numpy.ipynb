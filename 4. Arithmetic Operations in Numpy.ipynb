{
 "cells": [
  {
   "cell_type": "markdown",
   "id": "460b4b26",
   "metadata": {},
   "source": [
    "# Arithmetic Operations "
   ]
  },
  {
   "cell_type": "markdown",
   "id": "942423b9",
   "metadata": {},
   "source": [
    "#  On One Dimention Array"
   ]
  },
  {
   "cell_type": "code",
   "execution_count": 1,
   "id": "3b3fa385",
   "metadata": {},
   "outputs": [
    {
     "name": "stdout",
     "output_type": "stream",
     "text": [
      "[ 6  7  8  9 10]\n"
     ]
    }
   ],
   "source": [
    "import numpy as np\n",
    "\n",
    "n = np.array([1,2,3,4,5])\n",
    "num = n + 5               # Here we are adding 5 to each number in array\n",
    "print(num)"
   ]
  },
  {
   "cell_type": "code",
   "execution_count": null,
   "id": "3484f841",
   "metadata": {},
   "outputs": [],
   "source": [
    "n1 = np.array([1,2,3])\n",
    "n2 = np.array([1,2,3]) \n",
    "\n",
    "# Here we are adding array element with other array element \n",
    "\n",
    "print(\"Adding Methods\")\n",
    "print(n1 + n2)\n",
    "print()\n",
    "\n",
    "n3 = np.array([1,2,3])\n",
    "n4 = np.array([1,2,3])\n",
    "\n",
    "# We can also use pre-built in function to add elements\n",
    "\n",
    "# Addition\n",
    "print(\"Addition\")\n",
    "num2 = np.add(n3,n4)   \n",
    "print(num2)\n",
    "print()\n",
    "\n",
    "# Similarly we can perform other arithmetic operation such as \n",
    "\n",
    "# SUBTRACTION\n",
    "print(\"Subtraction \")\n",
    "num2 = np.subtract(n3,n4)   \n",
    "print(num2)\n",
    "print()\n",
    "\n",
    "# MULTIPLICATION\n",
    "\n",
    "print(\"Multiplication \")\n",
    "\n",
    "num2 = np.multiply(n3,n4)   \n",
    "print(num2)\n",
    "print()\n",
    "\n",
    "# DIVISION\n",
    "\n",
    "print(\"Divison \")\n",
    "num2 = np.divide(n3,n4)   \n",
    "print(num2)\n",
    "print()\n",
    "\n",
    "# MOD\n",
    "\n",
    "print(\"Mod \")\n",
    "num2 = np.mod(n3,n4)   \n",
    "print(num2)\n",
    "print()\n",
    "\n",
    "# Power\n",
    "\n",
    "\n",
    "print(\"Power \")\n",
    "num2 = np.power(n3,2)   \n",
    "print(num2)\n",
    "print()\n",
    "\n",
    "# Reciprocal\n",
    "\n",
    "print(\"Reciprocal \")\n",
    "num2 = np.reciprocal(n4)   \n",
    "print(num2)\n",
    "print()"
   ]
  },
  {
   "cell_type": "markdown",
   "id": "d5d541ca",
   "metadata": {},
   "source": [
    "#  On Two Dimention Array"
   ]
  },
  {
   "cell_type": "code",
   "execution_count": 31,
   "id": "c80b2f48",
   "metadata": {},
   "outputs": [
    {
     "name": "stdout",
     "output_type": "stream",
     "text": [
      "[[3 6 9]\n",
      " [3 6 9]]\n",
      "Subtraction \n",
      "[[-1 -2 -3]\n",
      " [-1 -2 -3]]\n",
      "\n",
      "Multiplication \n",
      "[[ 2  8 18]\n",
      " [ 2  8 18]]\n",
      "\n",
      "Divison \n",
      "[[0.5 0.5 0.5]\n",
      " [0.5 0.5 0.5]]\n",
      "\n",
      "Mod \n",
      "[[1 2 3]\n",
      " [1 2 3]]\n",
      "\n",
      "Power \n",
      "[[1 4 9]\n",
      " [1 4 9]]\n",
      "\n",
      "Reciprocal \n",
      "[[1 0 0]\n",
      " [1 0 0]]\n",
      "\n"
     ]
    }
   ],
   "source": [
    "no = np.array([[1,2,3],[1,2,3]])\n",
    "no1 = np.array([[2,4,6],[2,4,6]])\n",
    "result = np.add(no,no1)\n",
    "print(result)\n",
    "\n",
    "# SUBTRACTION\n",
    "print(\"Subtraction \")\n",
    "result1 = np.subtract(no,no1)   \n",
    "print(result1)\n",
    "print()\n",
    "\n",
    "# MULTIPLICATION\n",
    "\n",
    "print(\"Multiplication \")\n",
    "\n",
    "result2 = np.multiply(no,no1)   \n",
    "print(result2)\n",
    "print()\n",
    "\n",
    "# DIVISION\n",
    "\n",
    "print(\"Divison \")\n",
    "result3 = np.divide(no,no1)   \n",
    "print(result3)\n",
    "print()\n",
    "\n",
    "# MOD\n",
    "\n",
    "print(\"Mod \")\n",
    "result4 = np.mod(no,no1)   \n",
    "print(result4)\n",
    "print()\n",
    "\n",
    "# Power\n",
    "\n",
    "\n",
    "print(\"Power \")\n",
    "result5 = np.power(no,2)   \n",
    "print(result5)\n",
    "print()\n",
    "\n",
    "# Reciprocal\n",
    "\n",
    "print(\"Reciprocal \")\n",
    "result6 = np.reciprocal(no,no1)   \n",
    "print(result6)\n",
    "print()"
   ]
  }
 ],
 "metadata": {
  "kernelspec": {
   "display_name": "Python 3 (ipykernel)",
   "language": "python",
   "name": "python3"
  },
  "language_info": {
   "codemirror_mode": {
    "name": "ipython",
    "version": 3
   },
   "file_extension": ".py",
   "mimetype": "text/x-python",
   "name": "python",
   "nbconvert_exporter": "python",
   "pygments_lexer": "ipython3",
   "version": "3.11.4"
  }
 },
 "nbformat": 4,
 "nbformat_minor": 5
}
