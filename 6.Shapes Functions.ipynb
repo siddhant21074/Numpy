{
 "cells": [
  {
   "cell_type": "markdown",
   "id": "9ffa73a8",
   "metadata": {},
   "source": [
    "# SHAPE"
   ]
  },
  {
   "cell_type": "code",
   "execution_count": 1,
   "id": "81dd20ed",
   "metadata": {},
   "outputs": [
    {
     "name": "stdout",
     "output_type": "stream",
     "text": [
      "[[1 2 3 3 4 5]]\n",
      "\n",
      "(1, 6)\n",
      "[[1 2]\n",
      " [3 3]\n",
      " [4 5]]\n"
     ]
    }
   ],
   "source": [
    "import numpy as np\n",
    "\n",
    "arr = np.array([1,2,3,3,4,5],ndmin = 2)\n",
    "print(arr)\n",
    "print()\n",
    "print(arr.shape)  \n",
    "\n",
    "# Here shape represents the number of rows and column in a matrix \n",
    "\n",
    "var = arr.reshape(3,2)\n",
    "\n",
    "# Here reshape is used to modify the number of ROWS and COLUMN in a matrix \n",
    "print(var)\n"
   ]
  },
  {
   "cell_type": "code",
   "execution_count": 12,
   "id": "ff0ff4dd",
   "metadata": {},
   "outputs": [
    {
     "name": "stdout",
     "output_type": "stream",
     "text": [
      "One Dimention :\n",
      " [1 2 3 4 5 6 7 8]\n",
      "\n",
      "After Reshaping : \n",
      "\n",
      "[[[1 2]\n",
      "  [3 4]]\n",
      "\n",
      " [[5 6]\n",
      "  [7 8]]]\n",
      "\n",
      "Again in Original form :\n",
      " [1 2 3 4 5 6 7 8]\n",
      "\n"
     ]
    }
   ],
   "source": [
    "import numpy as np \n",
    "\n",
    "one_d = np.array([1,2,3,4,5,6,7,8])\n",
    "print(\"One Dimention :\\n\",one_d)\n",
    "print()\n",
    "\n",
    "var1 = one_d.reshape(2,2,2) # 2 * 2 matrix with element 2 in it i.e column , row and number of elements(2,2,2)\n",
    "\n",
    "print(\"After Reshaping : \\n\")\n",
    "print(var1)\n",
    "\n",
    "print()\n",
    "\n",
    "\n",
    "var2 = var1.reshape(-1)\n",
    "print(\"Again in Original form :\\n\",var2)\n",
    "print()"
   ]
  },
  {
   "cell_type": "code",
   "execution_count": null,
   "id": "827bc51c",
   "metadata": {},
   "outputs": [],
   "source": [
    "\n"
   ]
  }
 ],
 "metadata": {
  "kernelspec": {
   "display_name": "Python 3 (ipykernel)",
   "language": "python",
   "name": "python3"
  },
  "language_info": {
   "codemirror_mode": {
    "name": "ipython",
    "version": 3
   },
   "file_extension": ".py",
   "mimetype": "text/x-python",
   "name": "python",
   "nbconvert_exporter": "python",
   "pygments_lexer": "ipython3",
   "version": "3.11.4"
  }
 },
 "nbformat": 4,
 "nbformat_minor": 5
}
