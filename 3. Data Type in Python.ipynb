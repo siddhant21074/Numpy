{
 "cells": [
  {
   "cell_type": "markdown",
   "id": "ed41f461",
   "metadata": {},
   "source": [
    "# Data Types "
   ]
  },
  {
   "cell_type": "code",
   "execution_count": 11,
   "id": "ee633911",
   "metadata": {
    "scrolled": true
   },
   "outputs": [
    {
     "name": "stdout",
     "output_type": "stream",
     "text": [
      "Data type: int32\n",
      "\n",
      "Data type : <U1\n",
      "\n",
      "Data type : float64\n",
      "\n",
      "Data type : <U32\n",
      "\n"
     ]
    }
   ],
   "source": [
    "import numpy as np\n",
    "\n",
    "var = np.array([1,2,2,3])\n",
    "print(\"Data type:\",var.dtype)\n",
    "print()\n",
    "\n",
    "var1 = np.array(['a','b','c'])\n",
    "print(\"Data type :\",var1.dtype)\n",
    "print()\n",
    "    \n",
    "var2 = np.array([1.2,4.3,5.4])\n",
    "print(\"Data type :\", var2.dtype)\n",
    "print()\n",
    "\n",
    "\n",
    "var3 = np.array(['f','a','g',1.2,4.3,5.4])\n",
    "print(\"Data type :\", var3.dtype)\n",
    "print()\n"
   ]
  },
  {
   "cell_type": "markdown",
   "id": "67736d65",
   "metadata": {},
   "source": [
    "# Data Type Conversion"
   ]
  },
  {
   "cell_type": "code",
   "execution_count": 4,
   "id": "0641d5df",
   "metadata": {},
   "outputs": [
    {
     "name": "stdout",
     "output_type": "stream",
     "text": [
      "[1 2 2 4 5 6]\n",
      "int32\n",
      "\n",
      "[1. 2. 2. 4. 5. 6.]\n",
      "float32\n",
      "\n",
      "[1. 2. 2. 4. 5. 6.]\n",
      "float64\n"
     ]
    }
   ],
   "source": [
    "import numpy as np\n",
    "n = np.array([1,2,2,4,5,6])\n",
    "print(n)\n",
    "print(n.dtype) # This line is used for identifying Data type of variable \n",
    "print()\n",
    "\n",
    "# Converting one data type in another \n",
    "# Method 1: \n",
    "\n",
    "num = np.array(n, dtype = \"f\")  \n",
    "print(num)\n",
    "print(num.dtype)\n",
    "print()\n",
    "\n",
    "# Method 2: \n",
    "num2 = num.astype(float)\n",
    "print(num2)\n",
    "print(num2.dtype)"
   ]
  }
 ],
 "metadata": {
  "kernelspec": {
   "display_name": "Python 3 (ipykernel)",
   "language": "python",
   "name": "python3"
  },
  "language_info": {
   "codemirror_mode": {
    "name": "ipython",
    "version": 3
   },
   "file_extension": ".py",
   "mimetype": "text/x-python",
   "name": "python",
   "nbconvert_exporter": "python",
   "pygments_lexer": "ipython3",
   "version": "3.11.4"
  }
 },
 "nbformat": 4,
 "nbformat_minor": 5
}
