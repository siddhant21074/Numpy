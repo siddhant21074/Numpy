{
 "cells": [
  {
   "cell_type": "markdown",
   "id": "2a5aa58e",
   "metadata": {},
   "source": [
    "# Min and Max Functions"
   ]
  },
  {
   "cell_type": "code",
   "execution_count": 7,
   "id": "c881dfe5",
   "metadata": {},
   "outputs": [
    {
     "name": "stdout",
     "output_type": "stream",
     "text": [
      "Max :  5 \n",
      "Min :  1\n"
     ]
    }
   ],
   "source": [
    "import numpy as np\n",
    "\n",
    "num = np.array([1,2,3,4,5])\n",
    "\n",
    "# Here it returns min and max element in an array \n",
    "\n",
    "n = np.max(num)\n",
    "n1 = np.min(num)\n",
    "print(\"Max : \",n,\"\\nMin : \",n1)"
   ]
  },
  {
   "cell_type": "markdown",
   "id": "8f43dc5e",
   "metadata": {},
   "source": [
    "# argmax and argmin Function"
   ]
  },
  {
   "cell_type": "code",
   "execution_count": 5,
   "id": "46313cbe",
   "metadata": {},
   "outputs": [
    {
     "name": "stdout",
     "output_type": "stream",
     "text": [
      "Min Position :  0\n",
      "Max Poaition :  4\n"
     ]
    }
   ],
   "source": [
    "import numpy as np\n",
    "num1 = np.array([1,2,3,3,55])\n",
    "\n",
    "#Here it returns min and max element postion in an array\n",
    "\n",
    "print(\"Min Position : \",np.argmin(num1))\n",
    "print(\"Max Poaition : \",np.argmax(num1))"
   ]
  },
  {
   "cell_type": "code",
   "execution_count": 25,
   "id": "279d2721",
   "metadata": {},
   "outputs": [
    {
     "name": "stdout",
     "output_type": "stream",
     "text": [
      "[6 3]\n"
     ]
    }
   ],
   "source": [
    "# Another way for finding min and max using axis \n",
    "# Here axis = 0 refers to row and axis = 1 refers to coloumn \n",
    "n_1 = np.array([[4,5,6],[1,2,3]])\n",
    "n_2 = np.array([13,3,4,4])\n",
    "# Here it finds out max element in two dimentional array column wise  \n",
    "n3 = np.max(n_1,axis = 1) \n",
    "print(n3)"
   ]
  },
  {
   "cell_type": "markdown",
   "id": "55c3d486",
   "metadata": {},
   "source": [
    "# sqrt Function"
   ]
  },
  {
   "cell_type": "code",
   "execution_count": 14,
   "id": "d2ac04c0",
   "metadata": {},
   "outputs": [
    {
     "name": "stdout",
     "output_type": "stream",
     "text": [
      "Square root is :  [1. 2. 3. 4. 5.]\n"
     ]
    }
   ],
   "source": [
    "num2 = np.array([1,4,9,16,25])\n",
    "print(\"Square root is : \",np.sqrt(num2))\n"
   ]
  },
  {
   "cell_type": "markdown",
   "id": "3f4892c9",
   "metadata": {},
   "source": [
    "# sin and cos Function"
   ]
  },
  {
   "cell_type": "code",
   "execution_count": 28,
   "id": "f8a5ba88",
   "metadata": {},
   "outputs": [
    {
     "name": "stdout",
     "output_type": "stream",
     "text": [
      "Sin value :  [-0.30481062  0.85090352]\n",
      "Cos value :  [-0.95241298  0.52532199]\n"
     ]
    }
   ],
   "source": [
    "var = np.array([60,45])\n",
    "print(\"Sin value : \", np.sin(var))\n",
    "print(\"Cos value : \", np.cos(var))"
   ]
  },
  {
   "cell_type": "markdown",
   "id": "e44fbca6",
   "metadata": {},
   "source": [
    "# cumsum(Commulative Sum) Function"
   ]
  },
  {
   "cell_type": "code",
   "execution_count": 31,
   "id": "b51c377c",
   "metadata": {},
   "outputs": [
    {
     "name": "stdout",
     "output_type": "stream",
     "text": [
      "Cumsum is :  [1 3 6]\n"
     ]
    }
   ],
   "source": [
    "# cumsum functions refers to the summing of adjecent number \n",
    "# For ex - 1 2 3\n",
    "# The result will be - 1 3 6\n",
    "\n",
    "var3 = np.array([1,2,3])\n",
    "print(\"Cumsum is : \", np.cumsum(var3))"
   ]
  }
 ],
 "metadata": {
  "kernelspec": {
   "display_name": "Python 3 (ipykernel)",
   "language": "python",
   "name": "python3"
  },
  "language_info": {
   "codemirror_mode": {
    "name": "ipython",
    "version": 3
   },
   "file_extension": ".py",
   "mimetype": "text/x-python",
   "name": "python",
   "nbconvert_exporter": "python",
   "pygments_lexer": "ipython3",
   "version": "3.11.4"
  }
 },
 "nbformat": 4,
 "nbformat_minor": 5
}
